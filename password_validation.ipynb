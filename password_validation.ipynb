{
 "cells": [
  {
   "cell_type": "markdown",
   "source": [
    "# Password Validation in Python with REGEX"
   ],
   "metadata": {
    "collapsed": false
   }
  },
  {
   "cell_type": "markdown",
   "source": [
    "Write a password that follows the rules:\n",
    "+ At least 8 characters\n",
    "+ Uppercase letters: A-Z\n",
    "+ lowercase letters: a-z\n",
    "+ numbers: 0-9\n",
    "+ at least one special characters: @,#,$,%,&,+,^,=\n",
    "\n",
    "All but the length are optionals.\n",
    "Develop a Regex that will validate this password.\n"
   ],
   "metadata": {
    "collapsed": false
   }
  },
  {
   "cell_type": "code",
   "execution_count": 6,
   "outputs": [
    {
     "name": "stdout",
     "output_type": "stream",
     "text": [
      "<re.Match object; span=(0, 10), match='Kapamais19'>\n"
     ]
    }
   ],
   "source": [
    "import re\n",
    "\n",
    "password = \"Kapamais19\"\n",
    "# {8,15} 8 to 15 times, {8,} at least 8 times\n",
    "\n",
    "regex = \"[A-Za-z0-9@$%&#+^=]{8,}\"\n",
    "print(re.fullmatch(regex,password))"
   ],
   "metadata": {
    "collapsed": false
   }
  },
  {
   "cell_type": "markdown",
   "source": [
    "## User input validation"
   ],
   "metadata": {
    "collapsed": false
   }
  },
  {
   "cell_type": "markdown",
   "source": [
    "**Time Format Validation**\n",
    "\n",
    "A web application calculates health statistics based on the sleep duration of your users. Your users enter the time they went to bed an the time they wake up. An example of time format is 12:45\n",
    "Write a time-format checker that determines the input is worth processing further with your backend application."
   ],
   "metadata": {
    "collapsed": false
   }
  },
  {
   "cell_type": "code",
   "execution_count": 9,
   "outputs": [
    {
     "data": {
      "text/plain": "[<re.Match object; span=(0, 5), match='18:29'>,\n None,\n None,\n <re.Match object; span=(0, 5), match='99:14'>,\n <re.Match object; span=(0, 5), match='15:30'>]"
     },
     "execution_count": 9,
     "metadata": {},
     "output_type": "execute_result"
    }
   ],
   "source": [
    "inputs = [\"18:29\",\"ab:45\",\"123:34\",\"99:14\",\"15:30\"]\n",
    "regex = \"[0-9]{2}:[0-9]{2}\"\n",
    "[re.fullmatch(regex,x)for x in inputs]"
   ],
   "metadata": {
    "collapsed": false
   }
  },
  {
   "cell_type": "markdown",
   "source": [
    "The given time must be in the 24-hour time ranging from 00:00 to 23:59\n"
   ],
   "metadata": {
    "collapsed": false
   }
  },
  {
   "cell_type": "code",
   "execution_count": 10,
   "outputs": [
    {
     "data": {
      "text/plain": "[<re.Match object; span=(0, 5), match='18:29'>,\n None,\n None,\n None,\n <re.Match object; span=(0, 5), match='15:30'>]"
     },
     "execution_count": 10,
     "metadata": {},
     "output_type": "execute_result"
    }
   ],
   "source": [
    "regex = \"([01][0-9]|2[0-3]):([0-5][0-9])\"\n",
    "[re.fullmatch(regex,x)for x in inputs]"
   ],
   "metadata": {
    "collapsed": false
   }
  },
  {
   "cell_type": "markdown",
   "source": [
    "**EMAIL VALIDATION**"
   ],
   "metadata": {
    "collapsed": false
   }
  },
  {
   "cell_type": "code",
   "execution_count": 13,
   "outputs": [
    {
     "data": {
      "text/plain": "[<re.Match object; span=(0, 16), match='rog456@gmail.com'>,\n None,\n <re.Match object; span=(0, 20), match='s.rog78o@outlook.com'>]"
     },
     "execution_count": 13,
     "metadata": {},
     "output_type": "execute_result"
    }
   ],
   "source": [
    "inputs = [\"rog456@gmail.com\",\"r_£duke78o@outlook.com\",\"s.rog78o@outlook.com\"]\n",
    "regex = \"^(\\w|\\.|\\_|\\-)+[@]\\w+[.]\\w{2,3}$\"\n",
    "[re.fullmatch(regex,x)for x in inputs]"
   ],
   "metadata": {
    "collapsed": false
   }
  },
  {
   "cell_type": "markdown",
   "source": [
    "**USERNAME VALIDATION**\n",
    "\n",
    "Username is character, only allowing for _ and . only"
   ],
   "metadata": {
    "collapsed": false
   }
  },
  {
   "cell_type": "code",
   "execution_count": 16,
   "outputs": [
    {
     "data": {
      "text/plain": "[<re.Match object; span=(0, 7), match='a.roger'>,\n <re.Match object; span=(0, 6), match='aroger'>,\n <re.Match object; span=(0, 8), match='a.roge_r'>,\n None]"
     },
     "execution_count": 16,
     "metadata": {},
     "output_type": "execute_result"
    }
   ],
   "source": [
    "inputs = [\"a.roger\",\"aroger\", \"a.roge_r\", \"a.roger_2\"]\n",
    "regex = \"^[a-zA-X_.]+$\"\n",
    "[re.fullmatch(regex,x)for x in inputs]"
   ],
   "metadata": {
    "collapsed": false
   }
  }
 ],
 "metadata": {
  "kernelspec": {
   "display_name": "Python 3",
   "language": "python",
   "name": "python3"
  },
  "language_info": {
   "codemirror_mode": {
    "name": "ipython",
    "version": 2
   },
   "file_extension": ".py",
   "mimetype": "text/x-python",
   "name": "python",
   "nbconvert_exporter": "python",
   "pygments_lexer": "ipython2",
   "version": "2.7.6"
  }
 },
 "nbformat": 4,
 "nbformat_minor": 0
}
