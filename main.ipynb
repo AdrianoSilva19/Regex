{
 "cells": [
  {
   "cell_type": "markdown",
   "source": [
    "## Project to learn regular expressions in python"
   ],
   "metadata": {
    "collapsed": false
   }
  },
  {
   "cell_type": "code",
   "execution_count": 1,
   "outputs": [],
   "source": [
    "import re"
   ],
   "metadata": {
    "collapsed": false
   }
  },
  {
   "cell_type": "markdown",
   "source": [
    "### Metacharacters\n",
    "\n",
    "Search in the end of the string $, search at the start ^:"
   ],
   "metadata": {
    "collapsed": false
   }
  },
  {
   "cell_type": "code",
   "execution_count": 3,
   "outputs": [
    {
     "data": {
      "text/plain": "<re.Match object; span=(0, 4), match='dogs'>"
     },
     "execution_count": 3,
     "metadata": {},
     "output_type": "execute_result"
    }
   ],
   "source": [
    "st = \"dogs are adorable\"\n",
    "pattern = \"^dogs\"\n",
    "re.search(pattern,st)"
   ],
   "metadata": {
    "collapsed": false
   }
  },
  {
   "cell_type": "code",
   "execution_count": 4,
   "outputs": [
    {
     "data": {
      "text/plain": "<re.Match object; span=(9, 17), match='adorable'>"
     },
     "execution_count": 4,
     "metadata": {},
     "output_type": "execute_result"
    }
   ],
   "source": [
    "pattern2 = \"dogs$\"\n",
    "pattern3 = \"adorable$\"\n",
    "re.search(pattern2,st)\n",
    "re.search(pattern3,st)"
   ],
   "metadata": {
    "collapsed": false
   }
  },
  {
   "cell_type": "markdown",
   "source": [
    "### Quantifiers\n",
    "\n",
    "(?) means zero or one occurrence of the preceding element\n",
    "(+) one or more occurrence of the preceding element\n",
    "(*)"
   ],
   "metadata": {
    "collapsed": false
   }
  },
  {
   "cell_type": "code",
   "execution_count": 7,
   "outputs": [
    {
     "data": {
      "text/plain": "<re.Match object; span=(0, 5), match='color'>"
     },
     "execution_count": 7,
     "metadata": {},
     "output_type": "execute_result"
    }
   ],
   "source": [
    "st = \"color\"\n",
    "st2 = \"colour\"\n",
    "\n",
    "# here the regex will search for color and colour, the U is optional it can be present once or omited.\n",
    "re.search(\"colou?r\",st2)\n",
    "re.search(\"colou?r\",st)"
   ],
   "metadata": {
    "collapsed": false
   }
  },
  {
   "cell_type": "code",
   "execution_count": 9,
   "outputs": [
    {
     "name": "stdout",
     "output_type": "stream",
     "text": [
      "None\n",
      "<re.Match object; span=(0, 3), match='abc'>\n",
      "<re.Match object; span=(0, 4), match='abbc'>\n"
     ]
    }
   ],
   "source": [
    "st = \"ac\"\n",
    "st1 = \"abc\"\n",
    "st2= \"abbc\"\n",
    "\n",
    "# here the regex will search for the pattern with at least one B, matching st1 and st2\n",
    "\n",
    "print(re.search(\"ab+c\",st))\n",
    "print(re.search(\"ab+c\",st1))\n",
    "print(re.search(\"ab+c\",st2))"
   ],
   "metadata": {
    "collapsed": false
   }
  },
  {
   "cell_type": "markdown",
   "source": [
    "### Metacharacters\n",
    "\n",
    "(-) (.)"
   ],
   "metadata": {
    "collapsed": false
   }
  },
  {
   "cell_type": "markdown",
   "source": [
    "### Sets\n",
    "\n",
    "Represented by [], inside these brackets metacharacters have another meaning:\n",
    "\n",
    "[^a-n] All lower alphabetical elements but not between a and n\n",
    "\n",
    "[0145] Search 1 or 0 or 4 or 5\n",
    "[0-9] Any digit from 0 to 9\n",
    "[0-5][0-9] Returns a match object for any digit between 00 and 59\n",
    "[a-Z] All letters in lower case and upper case"
   ],
   "metadata": {
    "collapsed": false
   }
  },
  {
   "cell_type": "code",
   "execution_count": 12,
   "outputs": [
    {
     "data": {
      "text/plain": "['d', 'a', 'a', 'd', 'a', 'b']"
     },
     "execution_count": 12,
     "metadata": {},
     "output_type": "execute_result"
    }
   ],
   "source": [
    "st = \"dogs are adorable\"\n",
    "re.findall(\"[a-d]\",st)  # find all elements that fit the regex a to d"
   ],
   "metadata": {
    "collapsed": false
   }
  },
  {
   "cell_type": "markdown",
   "source": [
    "### Special Sequences\n",
    "\n",
    "\\d equivalent to [0-9]\n",
    "\\w equivalent to [0-9a-Z] all alfanumerical"
   ],
   "metadata": {
    "collapsed": false
   }
  },
  {
   "cell_type": "code",
   "execution_count": 13,
   "outputs": [
    {
     "data": {
      "text/plain": "['1', '2', '3', '4']"
     },
     "execution_count": 13,
     "metadata": {},
     "output_type": "execute_result"
    }
   ],
   "source": [
    "re.findall(\"\\d\",\"my password is pass1234\")"
   ],
   "metadata": {
    "collapsed": false
   }
  }
 ],
 "metadata": {
  "kernelspec": {
   "display_name": "Python 3",
   "language": "python",
   "name": "python3"
  },
  "language_info": {
   "codemirror_mode": {
    "name": "ipython",
    "version": 2
   },
   "file_extension": ".py",
   "mimetype": "text/x-python",
   "name": "python",
   "nbconvert_exporter": "python",
   "pygments_lexer": "ipython2",
   "version": "2.7.6"
  }
 },
 "nbformat": 4,
 "nbformat_minor": 0
}
